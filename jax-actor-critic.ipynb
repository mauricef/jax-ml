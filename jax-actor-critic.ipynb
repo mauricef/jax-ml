{
 "cells": [
  {
   "cell_type": "code",
   "execution_count": 2,
   "metadata": {},
   "outputs": [],
   "source": [
    "# https://www.tensorflow.org/tutorials/reinforcement_learning/actor_critic"
   ]
  },
  {
   "cell_type": "code",
   "execution_count": 3,
   "metadata": {},
   "outputs": [],
   "source": [
    "import gym\n",
    "import haiku as hk\n",
    "import optax\n",
    "from jax import jit, lax, vmap, grad, partial\n",
    "import jax.nn as nn\n",
    "import jax.numpy as np\n",
    "import jax.random as random\n",
    "\n",
    "rng = random.PRNGKey(42)\n",
    "env = gym.make(\"CartPole-v0\")\n",
    "gamma = .99\n",
    "num_actions = env.action_space.n  # 2\n",
    "num_hidden_units = 128\n",
    "max_steps = 200\n",
    "optimizer = optax.adam(learning_rate=.01)\n",
    "eps = np.finfo(np.float32).eps.item()"
   ]
  },
  {
   "cell_type": "code",
   "execution_count": 4,
   "metadata": {},
   "outputs": [],
   "source": [
    "def net_present_value(rate, values):\n",
    "    def step(total, value):\n",
    "        total = value + rate * total\n",
    "        return total, total\n",
    "    _, discounted_values = lax.scan(step, init=0, xs=values, reverse=True)\n",
    "    return discounted_values"
   ]
  },
  {
   "cell_type": "code",
   "execution_count": 5,
   "metadata": {},
   "outputs": [],
   "source": [
    "def get_expected_returns(rewards):\n",
    "    returns = net_present_value(gamma, rewards)\n",
    "    return nn.normalize(returns, epsilon=eps)"
   ]
  },
  {
   "cell_type": "code",
   "execution_count": 6,
   "metadata": {},
   "outputs": [],
   "source": [
    "def env_init(rng):\n",
    "    seed = random.randint(r, shape=(), minval=0, maxval=np.iinfo(np.int32).max)\n",
    "    env.seed(int(seed))\n",
    "    return np.array(env.reset())"
   ]
  },
  {
   "cell_type": "code",
   "execution_count": 7,
   "metadata": {},
   "outputs": [],
   "source": [
    "def env_step(action):\n",
    "    state, reward, done, _ = env.step(int(action))\n",
    "    return (np.array(state), np.array(reward), np.array(done))"
   ]
  },
  {
   "cell_type": "code",
   "execution_count": 8,
   "metadata": {},
   "outputs": [],
   "source": [
    "@jit\n",
    "def sample_policy(rng, model_state, state):\n",
    "    policy, _ = model.apply(model_state, state)\n",
    "    rng, r = random.split(rng)\n",
    "    return random.categorical(r, policy)"
   ]
  },
  {
   "cell_type": "code",
   "execution_count": 9,
   "metadata": {},
   "outputs": [],
   "source": [
    "def run_episode(rng, model_state):\n",
    "    rng, r = random.split(rng)\n",
    "    state = env_init(r)\n",
    "    \n",
    "    items = []\n",
    "    for i in range(max_steps):\n",
    "        rng, r = random.split(rng)\n",
    "        action = sample_policy(r, model_state, state)\n",
    "        next_state, reward, done = env_step(action)\n",
    "        items.append((state, action, reward))\n",
    "\n",
    "        state = next_state\n",
    "        if done:\n",
    "            break\n",
    "\n",
    "    return tuple(map(np.array, zip(*items)))"
   ]
  },
  {
   "cell_type": "code",
   "execution_count": 10,
   "metadata": {},
   "outputs": [],
   "source": [
    "def huber_loss(yp, y, delta=1.):\n",
    "    residual = np.abs(y - yp)\n",
    "    losses = np.where(residual < delta, .5 * residual ** 2, residual - .5)\n",
    "    return np.sum(losses)"
   ]
  },
  {
   "cell_type": "code",
   "execution_count": 11,
   "metadata": {},
   "outputs": [],
   "source": [
    "def compute_loss(action_probs, values, returns):\n",
    "    advantage = returns - values\n",
    "    action_log_probs = np.log(action_probs)\n",
    "    actor_loss = -np.sum(action_log_probs * advantage)\n",
    "    critic_loss = huber_loss(values, returns)\n",
    "    return actor_loss + critic_loss"
   ]
  },
  {
   "cell_type": "code",
   "execution_count": 12,
   "metadata": {},
   "outputs": [],
   "source": [
    "@hk.without_apply_rng\n",
    "@hk.transform\n",
    "def model(x):\n",
    "    x = hk.Linear(num_hidden_units, name='common')(x)\n",
    "    x = nn.relu(x)\n",
    "    actor = hk.Linear(2, name='actor')(x)\n",
    "    critic = hk.Linear(1, name='critic')(x)\n",
    "    return actor, critic"
   ]
  },
  {
   "cell_type": "code",
   "execution_count": 13,
   "metadata": {},
   "outputs": [],
   "source": [
    "def train_step(rng, model_state, opt_state):\n",
    "    rng, r = random.split(rng)\n",
    "    action_probs, values, rewards = run_episode(r, model_state)\n",
    "    returns = get_expected_returns(rewards)\n",
    "    loss = compute_loss(action_probs, values, returns)"
   ]
  },
  {
   "cell_type": "code",
   "execution_count": 16,
   "metadata": {},
   "outputs": [],
   "source": [
    "rng, r = random.split(rng)\n",
    "model_state = model.init(r, env_init(r))\n",
    "opt_state = optimizer.init(model_state)"
   ]
  },
  {
   "cell_type": "code",
   "execution_count": 17,
   "metadata": {},
   "outputs": [],
   "source": [
    "rng, r = random.split(rng)\n",
    "states, actions, rewards = run_episode(r, model_state)\n",
    "policy, values = vmap(partial(model.apply, model_state))(states)\n",
    "action_probs = nn.softmax(policy, axis=1)[np.arange(policy.shape[0]), actions]"
   ]
  }
 ],
 "metadata": {
  "colab": {
   "collapsed_sections": [
    "_jQ1tEQCxwRx"
   ],
   "name": "actor_critic.ipynb",
   "provenance": [],
   "toc_visible": true
  },
  "kernelspec": {
   "display_name": "Python 3 (ipykernel)",
   "language": "python",
   "name": "python3"
  },
  "language_info": {
   "codemirror_mode": {
    "name": "ipython",
    "version": 3
   },
   "file_extension": ".py",
   "mimetype": "text/x-python",
   "name": "python",
   "nbconvert_exporter": "python",
   "pygments_lexer": "ipython3",
   "version": "3.9.7"
  }
 },
 "nbformat": 4,
 "nbformat_minor": 4
}
