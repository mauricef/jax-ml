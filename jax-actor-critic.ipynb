{
 "cells": [
  {
   "cell_type": "markdown",
   "metadata": {
    "tags": []
   },
   "source": [
    "# Jax Actor Critic\n",
    "This is an implementation of the [TensorFlow actor critic example](https://www.tensorflow.org/tutorials/reinforcement_learning/actor_critic) using JAX, Haiku and Optax."
   ]
  },
  {
   "cell_type": "code",
   "execution_count": 20,
   "metadata": {},
   "outputs": [],
   "source": [
    "import collections\n",
    "\n",
    "import gym\n",
    "import haiku as hk\n",
    "import matplotlib.pyplot as plt\n",
    "import numpy as onp\n",
    "import optax\n",
    "from jax import jit, lax, vmap, value_and_grad, partial\n",
    "import jax.nn as nn\n",
    "import jax.numpy as np\n",
    "import jax.random as random\n",
    "from jax.tree_util import tree_map\n",
    "import tqdm"
   ]
  },
  {
   "cell_type": "code",
   "execution_count": 21,
   "metadata": {},
   "outputs": [],
   "source": [
    "Episode = collections.namedtuple('Episode', 'state action reward value')"
   ]
  },
  {
   "cell_type": "code",
   "execution_count": 22,
   "metadata": {},
   "outputs": [],
   "source": [
    "env = gym.make(\"CartPole-v0\")\n",
    "gamma = .99\n",
    "num_actions = env.action_space.n  # 2\n",
    "num_hidden_units = 128\n",
    "episode_steps = 200\n",
    "optimizer = optax.adam(learning_rate=.01)\n",
    "eps = np.finfo(np.float32).eps.item()"
   ]
  },
  {
   "cell_type": "code",
   "execution_count": 23,
   "metadata": {},
   "outputs": [],
   "source": [
    "@jit\n",
    "def scan_stack(ys):\n",
    "    return tuple(map(np.array, zip(*ys)))"
   ]
  },
  {
   "cell_type": "code",
   "execution_count": 24,
   "metadata": {},
   "outputs": [],
   "source": [
    "def scan(f, init, xs=None, length=None):\n",
    "    if xs is None:\n",
    "        xs = [None] * length\n",
    "    carry = init\n",
    "    ys = []\n",
    "    for x in xs:\n",
    "        carry, y = f(carry, x)\n",
    "        ys.append(y)\n",
    "    return carry, scan_stack(ys)"
   ]
  },
  {
   "cell_type": "code",
   "execution_count": 25,
   "metadata": {},
   "outputs": [],
   "source": [
    "# nan aware helpers\n",
    "\n",
    "def safe_mean(x):\n",
    "    mask = ~np.isnan(x)\n",
    "    n = np.count_nonzero(mask)\n",
    "    total = np.sum(np.nan_to_num(x))\n",
    "    return total / n\n",
    "\n",
    "def safe_var(x):\n",
    "    return safe_mean(np.square(x)) - np.square(safe_mean(x))\n",
    "\n",
    "def safe_normalize(x, epsilon=eps):\n",
    "    mean = safe_mean(x)\n",
    "    var = safe_var(x)\n",
    "    return (x - mean) * lax.rsqrt(var + epsilon)\n",
    "\n",
    "def safe_npv(rate, xs):\n",
    "    def step(total, x):\n",
    "        total = x + rate * total\n",
    "        return total, total\n",
    "    mask = ~np.isnan(xs)\n",
    "    xs = np.nan_to_num(xs)\n",
    "    _, ys = lax.scan(step, init=0., xs=xs, reverse=True)\n",
    "    ys = np.where(mask, ys, np.nan)\n",
    "    return ys"
   ]
  },
  {
   "cell_type": "code",
   "execution_count": 26,
   "metadata": {},
   "outputs": [],
   "source": [
    "@jit\n",
    "def get_values(rewards, gamma=gamma):\n",
    "    values = safe_npv(gamma, rewards)\n",
    "    return safe_normalize(values, epsilon=eps)"
   ]
  },
  {
   "cell_type": "code",
   "execution_count": 27,
   "metadata": {},
   "outputs": [],
   "source": [
    "def env_is_done(env):\n",
    "    return env.steps_beyond_done is not None and  env.steps_beyond_done > 0"
   ]
  },
  {
   "cell_type": "code",
   "execution_count": 28,
   "metadata": {},
   "outputs": [],
   "source": [
    "def env_init(rng):\n",
    "    seed = random.randint(r, shape=(), minval=0, maxval=np.iinfo(np.int32).max)\n",
    "    env.seed(int(seed))\n",
    "    return np.array(env.reset())"
   ]
  },
  {
   "cell_type": "code",
   "execution_count": 29,
   "metadata": {},
   "outputs": [],
   "source": [
    "def env_step(action):\n",
    "    if env_is_done(env):\n",
    "        state, reward = onp.array(env.state), np.nan\n",
    "    else:\n",
    "        state, reward, _, _ = env.step(int(action))\n",
    "    return state, reward"
   ]
  },
  {
   "cell_type": "code",
   "execution_count": 30,
   "metadata": {},
   "outputs": [],
   "source": [
    "@hk.without_apply_rng\n",
    "@hk.transform\n",
    "def model(x):\n",
    "    x = hk.Linear(num_hidden_units, name='common')(x)\n",
    "    x = nn.relu(x)\n",
    "    actor = hk.Linear(2, name='actor')(x)\n",
    "    critic = hk.Linear(1, name='critic')(x)\n",
    "    return actor, critic"
   ]
  },
  {
   "cell_type": "code",
   "execution_count": 31,
   "metadata": {},
   "outputs": [],
   "source": [
    "@jit\n",
    "def sample_policy(rng, model_state, state):\n",
    "    policy, _ = model.apply(model_state, state)\n",
    "    return random.categorical(rng, policy)"
   ]
  },
  {
   "cell_type": "code",
   "execution_count": 32,
   "metadata": {},
   "outputs": [],
   "source": [
    "def generate_episode(rng, model_state):\n",
    "    def generate_step(state, rng):\n",
    "        action = sample_policy(rng, model_state, state)\n",
    "        next_state, reward = env_step(action)\n",
    "        return next_state, (state, action, reward)\n",
    "\n",
    "    rng, r = random.split(rng)\n",
    "    initial_state = env_init(r)\n",
    "    rngs = np.array(random.split(rng, episode_steps))\n",
    "    _, (state, action, reward) = scan(generate_step, initial_state, xs=rngs)\n",
    "    value = get_values(reward)\n",
    "    return Episode(state, action, reward, value)"
   ]
  },
  {
   "cell_type": "code",
   "execution_count": 33,
   "metadata": {},
   "outputs": [],
   "source": [
    "def huber_loss(yp, y, delta=1.):\n",
    "    residual = np.abs(y - yp)\n",
    "    return np.where(residual < delta, .5 * residual ** 2, residual - .5)"
   ]
  },
  {
   "cell_type": "code",
   "execution_count": 34,
   "metadata": {},
   "outputs": [],
   "source": [
    "@jit\n",
    "def loss_fn(model_state, step):\n",
    "    policy_logits, predicted_value = model.apply(model_state, step.state)\n",
    "    advantage = step.value - predicted_value\n",
    "    policy_probs = nn.softmax(policy_logits)\n",
    "    action_prob = policy_probs[step.action]\n",
    "    action_log_prob = np.log(action_prob)\n",
    "    actor_loss = -action_log_prob * advantage\n",
    "    critic_loss = huber_loss(predicted_value, step.value)\n",
    "    loss = actor_loss + critic_loss\n",
    "    return loss"
   ]
  },
  {
   "cell_type": "code",
   "execution_count": 35,
   "metadata": {},
   "outputs": [],
   "source": [
    "@value_and_grad\n",
    "def compute_loss_and_grads(model_state, episode):\n",
    "    def compute_loss_step(step):\n",
    "        w = tree_map(lambda a: np.where(np.isnan(step.reward), lax.stop_gradient(a), a), model_state)\n",
    "        loss = loss_fn(w, step)\n",
    "        loss = np.nan_to_num(loss)\n",
    "        return loss\n",
    "    losses = vmap(partial(compute_loss_step))(episode)\n",
    "    return np.sum(losses)"
   ]
  },
  {
   "cell_type": "code",
   "execution_count": 36,
   "metadata": {},
   "outputs": [],
   "source": [
    "@jit\n",
    "def train_step(episode, model_state, opt_state):\n",
    "    loss_value, loss_grads = compute_loss_and_grads(model_state, episode)\n",
    "    model_updates, opt_state = optimizer.update(loss_grads, opt_state, model_state)\n",
    "    model_state = optax.apply_updates(model_state, model_updates)\n",
    "    episode_reward = np.sum(np.nan_to_num(episode.reward))\n",
    "    return episode_reward, loss_value, model_state, opt_state"
   ]
  },
  {
   "cell_type": "code",
   "execution_count": 37,
   "metadata": {},
   "outputs": [],
   "source": [
    "rng = random.PRNGKey(42)"
   ]
  },
  {
   "cell_type": "code",
   "execution_count": 38,
   "metadata": {
    "tags": []
   },
   "outputs": [
    {
     "name": "stderr",
     "output_type": "stream",
     "text": [
      "  0%|                                                 | 0/10000 [00:00<?, ?it/s]"
     ]
    },
    {
     "name": "stdout",
     "output_type": "stream",
     "text": [
      "scan_stack\n"
     ]
    },
    {
     "name": "stderr",
     "output_type": "stream",
     "text": [
      "Episode 304:   3%| | 304/10000 [00:06<03:42, 43.48it/s, episode_reward=200.0, ru"
     ]
    },
    {
     "name": "stdout",
     "output_type": "stream",
     "text": [
      "\n",
      "Solved at episode 304: average reward: 195.06!\n"
     ]
    },
    {
     "name": "stderr",
     "output_type": "stream",
     "text": [
      "\n"
     ]
    }
   ],
   "source": [
    "rng, r = random.split(rng)\n",
    "model_state = model.init(r, env_init(r))\n",
    "opt_state = optimizer.init(model_state)\n",
    "\n",
    "max_episodes = 10000\n",
    "max_steps_per_episode = 200\n",
    "min_episodes_criterion = 100\n",
    "reward_threshold = 195\n",
    "running_reward = 0\n",
    "gamma = 0.99\n",
    "episodes_reward = collections.deque(maxlen=min_episodes_criterion)\n",
    "\n",
    "with tqdm.trange(max_episodes) as t:\n",
    "    for i in t:\n",
    "        rng, r = random.split(rng)\n",
    "        episode = generate_episode(r, model_state)\n",
    "        rng, r = random.split(rng)\n",
    "        episode_reward, loss_value, model_state, opt_state = train_step(episode, model_state, opt_state)\n",
    "        episodes_reward.append(episode_reward)\n",
    "        running_reward = onp.mean(episodes_reward)\n",
    "        \n",
    "        t.set_description(f'Episode {i}')\n",
    "        t.set_postfix(\n",
    "            episode_reward=episode_reward, running_reward=running_reward)\n",
    "\n",
    "        if running_reward > reward_threshold and i >= min_episodes_criterion:  \n",
    "            break\n",
    "            \n",
    "print(f'\\nSolved at episode {i}: average reward: {running_reward:.2f}!')"
   ]
  }
 ],
 "metadata": {
  "colab": {
   "collapsed_sections": [
    "_jQ1tEQCxwRx"
   ],
   "name": "actor_critic.ipynb",
   "provenance": [],
   "toc_visible": true
  },
  "kernelspec": {
   "display_name": "Python 3 (ipykernel)",
   "language": "python",
   "name": "python3"
  },
  "language_info": {
   "codemirror_mode": {
    "name": "ipython",
    "version": 3
   },
   "file_extension": ".py",
   "mimetype": "text/x-python",
   "name": "python",
   "nbconvert_exporter": "python",
   "pygments_lexer": "ipython3",
   "version": "3.9.7"
  }
 },
 "nbformat": 4,
 "nbformat_minor": 4
}
