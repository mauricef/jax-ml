{
 "cells": [
  {
   "cell_type": "code",
   "execution_count": 2,
   "metadata": {},
   "outputs": [],
   "source": [
    "# https://www.tensorflow.org/tutorials/reinforcement_learning/actor_critic"
   ]
  },
  {
   "cell_type": "code",
   "execution_count": 1,
   "metadata": {},
   "outputs": [],
   "source": [
    "import collections\n",
    "\n",
    "import gym\n",
    "import haiku as hk\n",
    "import matplotlib.pyplot as plt\n",
    "import optax\n",
    "from jax import jit, lax, vmap, value_and_grad, partial\n",
    "import jax.nn as nn\n",
    "import jax.numpy as np\n",
    "import jax.random as random\n",
    "from jax.tree_util import tree_map\n",
    "import tqdm"
   ]
  },
  {
   "cell_type": "code",
   "execution_count": 2,
   "metadata": {},
   "outputs": [],
   "source": [
    "env = gym.make(\"CartPole-v0\")\n",
    "gamma = .99\n",
    "num_actions = env.action_space.n  # 2\n",
    "num_hidden_units = 128\n",
    "max_steps = 200\n",
    "optimizer = optax.adam(learning_rate=.01)\n",
    "eps = np.finfo(np.float32).eps.item()"
   ]
  },
  {
   "cell_type": "code",
   "execution_count": 3,
   "metadata": {},
   "outputs": [],
   "source": [
    "def net_present_value(rate, values):\n",
    "    def step(total, value):\n",
    "        total = value + rate * total\n",
    "        return total, total\n",
    "    _, discounted_values = lax.scan(step, init=0, xs=values, reverse=True)\n",
    "    return discounted_values"
   ]
  },
  {
   "cell_type": "code",
   "execution_count": 4,
   "metadata": {},
   "outputs": [],
   "source": [
    "def get_values(rewards):\n",
    "    values = net_present_value(gamma, rewards)\n",
    "    return nn.normalize(values, epsilon=eps)"
   ]
  },
  {
   "cell_type": "code",
   "execution_count": 5,
   "metadata": {},
   "outputs": [],
   "source": [
    "def env_init(rng):\n",
    "    seed = random.randint(r, shape=(), minval=0, maxval=np.iinfo(np.int32).max)\n",
    "    env.seed(int(seed))\n",
    "    return np.array(env.reset())"
   ]
  },
  {
   "cell_type": "code",
   "execution_count": 6,
   "metadata": {},
   "outputs": [],
   "source": [
    "def env_step(action):\n",
    "    state, reward, done, _ = env.step(int(action))\n",
    "    return (np.array(state), np.array(reward), np.array(done))"
   ]
  },
  {
   "cell_type": "code",
   "execution_count": 7,
   "metadata": {},
   "outputs": [],
   "source": [
    "@hk.without_apply_rng\n",
    "@hk.transform\n",
    "def model(x):\n",
    "    x = hk.Linear(num_hidden_units, name='common')(x)\n",
    "    x = nn.relu(x)\n",
    "    actor = hk.Linear(2, name='actor')(x)\n",
    "    critic = hk.Linear(1, name='critic')(x)\n",
    "    return actor, critic"
   ]
  },
  {
   "cell_type": "code",
   "execution_count": 8,
   "metadata": {},
   "outputs": [],
   "source": [
    "@jit\n",
    "def sample_policy(rng, model_state, state):\n",
    "    policy, _ = model.apply(model_state, state)\n",
    "    rng, r = random.split(rng)\n",
    "    return random.categorical(r, policy)"
   ]
  },
  {
   "cell_type": "code",
   "execution_count": 32,
   "metadata": {},
   "outputs": [],
   "source": [
    "def run_episode(rng, model_state):\n",
    "    def generate_episode(rng, state):\n",
    "        for i in range(max_steps):\n",
    "            rng, r = random.split(rng)\n",
    "            action = sample_policy(r, model_state, state)\n",
    "            next_state, reward, done = env_step(action)\n",
    "            yield (state, action, reward)\n",
    "            state = next_state\n",
    "            if done:\n",
    "                break\n",
    "\n",
    "                \n",
    "    rng, r = random.split(rng)\n",
    "    initial_state = env_init(r)\n",
    "    episodes = generate_episode(rng, initial_state)\n",
    "    return tuple(map(np.array, zip(*episodes)))"
   ]
  },
  {
   "cell_type": "code",
   "execution_count": 33,
   "metadata": {},
   "outputs": [],
   "source": [
    "def huber_loss(yp, y, delta=1.):\n",
    "    residual = np.abs(y - yp)\n",
    "    return np.where(residual < delta, .5 * residual ** 2, residual - .5)"
   ]
  },
  {
   "cell_type": "code",
   "execution_count": 40,
   "metadata": {},
   "outputs": [],
   "source": [
    "@jit\n",
    "def compute_loss(model_state, state, action, value):\n",
    "    policy_logits, predicted_value = model.apply(model_state, state)\n",
    "    advantage = value - predicted_value\n",
    "    policy_probs = nn.softmax(policy_logits)\n",
    "    action_prob = policy_probs[action]\n",
    "    action_log_prob = np.log(action_prob)\n",
    "    actor_loss = -action_log_prob * advantage\n",
    "    critic_loss = huber_loss(predicted_value, value)\n",
    "    return actor_loss + critic_loss"
   ]
  },
  {
   "cell_type": "code",
   "execution_count": 41,
   "metadata": {},
   "outputs": [],
   "source": [
    "@value_and_grad\n",
    "def compute_loss_and_grads(model_state, states, actions, values):\n",
    "    losses = vmap(partial(compute_loss, model_state))(states, actions, values)\n",
    "    return np.sum(losses)"
   ]
  },
  {
   "cell_type": "code",
   "execution_count": 42,
   "metadata": {},
   "outputs": [],
   "source": [
    "def train_step(episode, model_state, opt_state):\n",
    "    states, actions, rewards = episode\n",
    "    values = get_values(rewards)\n",
    "    loss_value, loss_grads = compute_loss_and_grads(model_state, states, actions, values)\n",
    "    model_updates, opt_state = optimizer.update(loss_grads, opt_state, model_state)\n",
    "    model_state = optax.apply_updates(model_state, model_updates)\n",
    "    episode_reward = np.sum(rewards)\n",
    "    return episode_reward, loss_value, model_state, opt_state"
   ]
  },
  {
   "cell_type": "code",
   "execution_count": 43,
   "metadata": {},
   "outputs": [],
   "source": [
    "rng = random.PRNGKey(42)\n",
    "rng, r = random.split(rng)\n",
    "model_state = model.init(r, env_init(r))\n",
    "opt_state = optimizer.init(model_state)"
   ]
  },
  {
   "cell_type": "code",
   "execution_count": 44,
   "metadata": {
    "tags": []
   },
   "outputs": [
    {
     "name": "stderr",
     "output_type": "stream",
     "text": [
      "100%|█████████████████████████████████████████| 500/500 [01:56<00:00,  4.28it/s]\n"
     ]
    }
   ],
   "source": [
    "max_episodes = 500\n",
    "max_steps_per_episode = 200\n",
    "\n",
    "items = []\n",
    "with tqdm.trange(max_episodes) as t:\n",
    "    for i in t:\n",
    "        rng, r = random.split(rng)\n",
    "        episode = run_episode(r, model_state)\n",
    "        rng, r = random.split(rng)\n",
    "        episode_reward, loss_value, model_state, opt_state = train_step(episode, model_state, opt_state)\n",
    "        episode_reward.block_until_ready()\n",
    "        items.append((episode_reward, loss_value))"
   ]
  },
  {
   "cell_type": "code",
   "execution_count": 46,
   "metadata": {},
   "outputs": [],
   "source": [
    "episode_rewards, loss_values = tuple(map(np.array, zip(*items)))"
   ]
  },
  {
   "cell_type": "code",
   "execution_count": 47,
   "metadata": {},
   "outputs": [
    {
     "data": {
      "text/plain": [
       "[<matplotlib.lines.Line2D at 0x14f657e20>]"
      ]
     },
     "execution_count": 47,
     "metadata": {},
     "output_type": "execute_result"
    },
    {
     "data": {
      "image/png": "[encoded data removed]",
      "text/plain": [
       "<Figure size 432x288 with 1 Axes>"
      ]
     },
     "metadata": {
      "needs_background": "light"
     },
     "output_type": "display_data"
    }
   ],
   "source": [
    "plt.plot(episode_rewards)"
   ]
  },
  {
   "cell_type": "code",
   "execution_count": 48,
   "metadata": {},
   "outputs": [
    {
     "data": {
      "text/plain": [
       "[<matplotlib.lines.Line2D at 0x14f7bdd90>]"
      ]
     },
     "execution_count": 48,
     "metadata": {},
     "output_type": "execute_result"
    },
    {
     "data": {
      "image/png": "[encoded data removed]",
      "text/plain": [
       "<Figure size 432x288 with 1 Axes>"
      ]
     },
     "metadata": {
      "needs_background": "light"
     },
     "output_type": "display_data"
    }
   ],
   "source": [
    "plt.plot(loss_values)"
   ]
  }
 ],
 "metadata": {
  "colab": {
   "collapsed_sections": [
    "_jQ1tEQCxwRx"
   ],
   "name": "actor_critic.ipynb",
   "provenance": [],
   "toc_visible": true
  },
  "kernelspec": {
   "display_name": "Python 3 (ipykernel)",
   "language": "python",
   "name": "python3"
  },
  "language_info": {
   "codemirror_mode": {
    "name": "ipython",
    "version": 3
   },
   "file_extension": ".py",
   "mimetype": "text/x-python",
   "name": "python",
   "nbconvert_exporter": "python",
   "pygments_lexer": "ipython3",
   "version": "3.9.7"
  }
 },
 "nbformat": 4,
 "nbformat_minor": 4
}
